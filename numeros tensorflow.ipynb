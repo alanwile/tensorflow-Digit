{
 "cells": [
  {
   "cell_type": "code",
   "execution_count": 8,
   "metadata": {},
   "outputs": [],
   "source": [
    "import tensorflow as tf \n",
    "from tensorflow import keras\n",
    "\n",
    "import numpy as nump\n",
    "import matplotlib.pyplot as plt"
   ]
  },
  {
   "cell_type": "code",
   "execution_count": 9,
   "metadata": {},
   "outputs": [],
   "source": [
    "dig = keras.datasets.mnist\n",
    "(x, y ),  (x_prueba , y_prueba) = dig.load_data()"
   ]
  },
  {
   "cell_type": "code",
   "execution_count": 10,
   "metadata": {},
   "outputs": [
    {
     "data": {
      "image/png": "[encoded data removed]",
      "text/plain": [
       "<Figure size 432x288 with 1 Axes>"
      ]
     },
     "metadata": {
      "needs_background": "light"
     },
     "output_type": "display_data"
    }
   ],
   "source": [
    "plt.figure()\n",
    "plt.imshow(x[100])\n",
    "plt.show()"
   ]
  },
  {
   "cell_type": "code",
   "execution_count": 11,
   "metadata": {},
   "outputs": [
    {
     "data": {
      "text/plain": [
       "(60000, 28, 28)"
      ]
     },
     "execution_count": 11,
     "metadata": {},
     "output_type": "execute_result"
    }
   ],
   "source": [
    "x.shape"
   ]
  },
  {
   "cell_type": "code",
   "execution_count": 12,
   "metadata": {},
   "outputs": [],
   "source": [
    "x=x/255.0\n",
    "x_prueba=x_prueba/255.0"
   ]
  },
  {
   "cell_type": "code",
   "execution_count": 13,
   "metadata": {},
   "outputs": [
    {
     "name": "stdout",
     "output_type": "stream",
     "text": [
      "WARNING:tensorflow:From C:\\Users\\Alan Wile\\AppData\\Roaming\\Python\\Python37\\site-packages\\tensorflow\\python\\ops\\resource_variable_ops.py:435: colocate_with (from tensorflow.python.framework.ops) is deprecated and will be removed in a future version.\n",
      "Instructions for updating:\n",
      "Colocations handled automatically by placer.\n"
     ]
    }
   ],
   "source": [
    "model = keras.Sequential([\n",
    "    keras.layers.Flatten(input_shape=(28, 28)),\n",
    "    keras.layers.Dense(128, activation=tf.nn.sigmoid),\n",
    "    keras.layers.Dense(10, activation=tf.nn.sigmoid)\n",
    "])"
   ]
  },
  {
   "cell_type": "code",
   "execution_count": 15,
   "metadata": {
    "scrolled": true
   },
   "outputs": [
    {
     "name": "stdout",
     "output_type": "stream",
     "text": [
      "Epoch 1/20\n",
      "60000/60000 [==============================] - 6s 103us/sample - loss: 0.4046 - acc: 0.8987\n",
      "Epoch 2/20\n",
      "60000/60000 [==============================] - 6s 99us/sample - loss: 0.1899 - acc: 0.9451\n",
      "Epoch 3/20\n",
      "60000/60000 [==============================] - 6s 97us/sample - loss: 0.1414 - acc: 0.9591\n",
      "Epoch 4/20\n",
      "60000/60000 [==============================] - 6s 94us/sample - loss: 0.1112 - acc: 0.9679\n",
      "Epoch 5/20\n",
      "60000/60000 [==============================] - 6s 96us/sample - loss: 0.0907 - acc: 0.9743\n",
      "Epoch 6/20\n",
      "60000/60000 [==============================] - 6s 99us/sample - loss: 0.0752 - acc: 0.9786\n",
      "Epoch 7/20\n",
      "60000/60000 [==============================] - 6s 99us/sample - loss: 0.0626 - acc: 0.9824\n",
      "Epoch 8/20\n",
      "60000/60000 [==============================] - 6s 95us/sample - loss: 0.0535 - acc: 0.9854\n",
      "Epoch 9/20\n",
      "60000/60000 [==============================] - 6s 101us/sample - loss: 0.0448 - acc: 0.9884\n",
      "Epoch 10/20\n",
      "60000/60000 [==============================] - 6s 97us/sample - loss: 0.0387 - acc: 0.9900\n",
      "Epoch 11/20\n",
      "60000/60000 [==============================] - 6s 102us/sample - loss: 0.0331 - acc: 0.9916\n",
      "Epoch 12/20\n",
      "60000/60000 [==============================] - 6s 99us/sample - loss: 0.0282 - acc: 0.9933\n",
      "Epoch 13/20\n",
      "60000/60000 [==============================] - 6s 100us/sample - loss: 0.0238 - acc: 0.9946\n",
      "Epoch 14/20\n",
      "60000/60000 [==============================] - 6s 106us/sample - loss: 0.0200 - acc: 0.9962\n",
      "Epoch 15/20\n",
      "60000/60000 [==============================] - 6s 97us/sample - loss: 0.0174 - acc: 0.9970\n",
      "Epoch 16/20\n",
      "60000/60000 [==============================] - 6s 104us/sample - loss: 0.0148 - acc: 0.9978\n",
      "Epoch 17/20\n",
      "60000/60000 [==============================] - 6s 102us/sample - loss: 0.0126 - acc: 0.9982\n",
      "Epoch 18/20\n",
      "60000/60000 [==============================] - 6s 106us/sample - loss: 0.0103 - acc: 0.9987\n",
      "Epoch 19/20\n",
      "60000/60000 [==============================] - 7s 116us/sample - loss: 0.0089 - acc: 0.9990\n",
      "Epoch 20/20\n",
      "60000/60000 [==============================] - 7s 111us/sample - loss: 0.0076 - acc: 0.9991\n",
      "10000/10000 [==============================] - 1s 51us/sample - loss: 0.0787 - acc: 0.9781\n"
     ]
    }
   ],
   "source": [
    "model.compile(optimizer='adam',  loss='sparse_categorical_crossentropy',metrics=['accuracy'])\n",
    "\n",
    "model.fit(x, y, epochs=20)\n",
    "model.evaluate(x_prueba,y_prueba)\n",
    "\n",
    "predicciones = model.predict(x_prueba)\n",
    "def predecir(xx):\n",
    "    plot.figure()\n",
    "    plot.imshow(x_prueba[xx])\n",
    "    plot.xlabel(y_prueba[xx])\n"
   ]
  },
  {
   "cell_type": "code",
   "execution_count": 16,
   "metadata": {},
   "outputs": [
    {
     "data": {
      "text/plain": [
       "10000"
      ]
     },
     "execution_count": 16,
     "metadata": {},
     "output_type": "execute_result"
    }
   ],
   "source": [
    "len(y_prueba)"
   ]
  },
  {
   "cell_type": "code",
   "execution_count": 22,
   "metadata": {
    "scrolled": true
   },
   "outputs": [
    {
     "data": {
      "image/png": "[encoded data removed]",
      "text/plain": [
       "<Figure size 432x288 with 1 Axes>"
      ]
     },
     "metadata": {
      "needs_background": "light"
     },
     "output_type": "display_data"
    }
   ],
   "source": [
    "predecir(11)"
   ]
  },
  {
   "cell_type": "code",
   "execution_count": 23,
   "metadata": {},
   "outputs": [
    {
     "name": "stdout",
     "output_type": "stream",
     "text": [
      "10000/10000 [==============================] - 0s 37us/sample - loss: 0.0787 - acc: 0.9781\n"
     ]
    }
   ],
   "source": [
    "test_loss, test_acc = model.evaluate(x_prueba, y_prueba)"
   ]
  },
  {
   "cell_type": "code",
   "execution_count": 34,
   "metadata": {},
   "outputs": [
    {
     "data": {
      "image/png": "[encoded data removed]",
      "text/plain": [
       "<Figure size 432x288 with 1 Axes>"
      ]
     },
     "metadata": {
      "needs_background": "light"
     },
     "output_type": "display_data"
    }
   ],
   "source": [
    "predecir(4)"
   ]
  },
  {
   "cell_type": "code",
   "execution_count": null,
   "metadata": {},
   "outputs": [],
   "source": []
  }
 ],
 "metadata": {
  "kernelspec": {
   "display_name": "Python 3",
   "language": "python",
   "name": "python3"
  },
  "language_info": {
   "codemirror_mode": {
    "name": "ipython",
    "version": 3
   },
   "file_extension": ".py",
   "mimetype": "text/x-python",
   "name": "python",
   "nbconvert_exporter": "python",
   "pygments_lexer": "ipython3",
   "version": "3.7.1"
  }
 },
 "nbformat": 4,
 "nbformat_minor": 2
}
